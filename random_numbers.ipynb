{
 "cells": [
  {
   "cell_type": "code",
   "execution_count": 1,
   "id": "635e6dbd",
   "metadata": {},
   "outputs": [],
   "source": [
    "# Import the random module.\n",
    "import random"
   ]
  },
  {
   "cell_type": "code",
   "execution_count": 2,
   "id": "375f12e3",
   "metadata": {},
   "outputs": [
    {
     "data": {
      "text/plain": [
       "-32"
      ]
     },
     "execution_count": 2,
     "metadata": {},
     "output_type": "execute_result"
    }
   ],
   "source": [
    "random.randint(-90, 90)"
   ]
  },
  {
   "cell_type": "code",
   "execution_count": 3,
   "id": "0a6238fc",
   "metadata": {},
   "outputs": [
    {
     "data": {
      "text/plain": [
       "0.027321779491517928"
      ]
     },
     "execution_count": 3,
     "metadata": {},
     "output_type": "execute_result"
    }
   ],
   "source": [
    "random.random()"
   ]
  },
  {
   "cell_type": "code",
   "execution_count": 4,
   "id": "1d9603d0",
   "metadata": {},
   "outputs": [],
   "source": [
    "# Import the NumPy module.\n",
    "import numpy as np"
   ]
  },
  {
   "cell_type": "code",
   "execution_count": 5,
   "id": "6e8efa3b",
   "metadata": {},
   "outputs": [
    {
     "data": {
      "text/plain": [
       "-88.50905118726926"
      ]
     },
     "execution_count": 5,
     "metadata": {},
     "output_type": "execute_result"
    }
   ],
   "source": [
    "np.random.uniform(-90.000, 90.000)"
   ]
  },
  {
   "cell_type": "code",
   "execution_count": 6,
   "id": "4f6dee36",
   "metadata": {},
   "outputs": [
    {
     "data": {
      "text/plain": [
       "array([-6.89687137e+01,  8.22490065e+01, -4.74017336e+01, -5.20429399e+01,\n",
       "       -7.03998820e+01,  8.81011496e+01,  5.99104858e+01, -3.86920225e+01,\n",
       "       -3.44033325e+01,  3.85516717e+00, -6.42234506e+01,  4.29674085e+01,\n",
       "        1.53953297e+01,  2.07052821e+01,  4.32599471e+01, -7.98068693e+01,\n",
       "       -2.75198231e+01,  8.91420401e+01,  6.35378634e+01,  5.58105848e+01,\n",
       "        4.98807597e+01,  5.49333327e-02, -2.96135000e+01,  7.34696516e+00,\n",
       "       -8.62935546e+01, -5.05376586e-01,  9.72443918e-01, -4.41199442e+01,\n",
       "        7.21756058e+01, -3.58297138e+01,  1.89759117e+01,  5.55014267e+00,\n",
       "        4.56502275e+01, -5.44799159e+01, -6.91859783e+01, -7.52724720e+01,\n",
       "       -7.53675173e+01, -1.60391195e+01, -3.53787803e+01,  8.07913852e+01,\n",
       "       -6.60646577e+01, -7.47196189e+01, -7.22187890e+01,  7.65723726e+00,\n",
       "       -7.87309402e+01, -3.10185699e+01,  4.45176876e+01,  2.69500402e+01,\n",
       "       -8.02897019e+01, -2.56166021e+01])"
      ]
     },
     "execution_count": 6,
     "metadata": {},
     "output_type": "execute_result"
    }
   ],
   "source": [
    "np.random.uniform(-90.000, 90.000, size=50)"
   ]
  },
  {
   "cell_type": "code",
   "execution_count": 7,
   "id": "ecdf8e48",
   "metadata": {},
   "outputs": [],
   "source": [
    "# Import timeit.\n",
    "import timeit"
   ]
  },
  {
   "cell_type": "code",
   "execution_count": 8,
   "id": "b9ab128e",
   "metadata": {},
   "outputs": [
    {
     "name": "stdout",
     "output_type": "stream",
     "text": [
      "45 µs ± 4.9 µs per loop (mean ± std. dev. of 7 runs, 10000 loops each)\n"
     ]
    }
   ],
   "source": [
    "%timeit np.random.uniform(-90.000, 90.000, size=1500)"
   ]
  },
  {
   "cell_type": "code",
   "execution_count": 9,
   "id": "e97f5875",
   "metadata": {},
   "outputs": [
    {
     "name": "stdout",
     "output_type": "stream",
     "text": [
      "6.98 ms ± 294 µs per loop (mean ± std. dev. of 7 runs, 100 loops each)\n"
     ]
    }
   ],
   "source": [
    "def latitudes(size):\n",
    "    latitudes = []\n",
    "    x = 0\n",
    "    while x < (size):\n",
    "        random_lat = random.randint(-90, 90) + random.random()\n",
    "        latitudes.append(random_lat)\n",
    "        x += 1\n",
    "    return latitudes\n",
    "# Call the function with 1500.\n",
    "%timeit latitudes(1500)"
   ]
  },
  {
   "cell_type": "code",
   "execution_count": null,
   "id": "6571f1cc",
   "metadata": {},
   "outputs": [],
   "source": []
  }
 ],
 "metadata": {
  "kernelspec": {
   "display_name": "PythonData",
   "language": "python",
   "name": "pythondata"
  },
  "language_info": {
   "codemirror_mode": {
    "name": "ipython",
    "version": 3
   },
   "file_extension": ".py",
   "mimetype": "text/x-python",
   "name": "python",
   "nbconvert_exporter": "python",
   "pygments_lexer": "ipython3",
   "version": "3.7.13"
  }
 },
 "nbformat": 4,
 "nbformat_minor": 5
}
